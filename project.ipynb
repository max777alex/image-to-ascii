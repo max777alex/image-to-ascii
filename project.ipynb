{
 "cells": [
  {
   "cell_type": "code",
   "execution_count": 66,
   "metadata": {
    "collapsed": false
   },
   "outputs": [],
   "source": [
    "import numpy as np\n",
    "import sys\n",
    "\n",
    "def getSymbols():\n",
    "    return np.random.randint(0, 256, (200, 8, 10))\n",
    "\n",
    "def getImage():\n",
    "    return np.random.randint(0, 256, (630, 480))"
   ]
  },
  {
   "cell_type": "code",
   "execution_count": 67,
   "metadata": {
    "collapsed": false
   },
   "outputs": [],
   "source": [
    "np.random.seed(1)\n",
    "\n",
    "symbols = getSymbols()\n",
    "image = getImage()"
   ]
  },
  {
   "cell_type": "code",
   "execution_count": 68,
   "metadata": {
    "collapsed": false
   },
   "outputs": [],
   "source": [
    "symbol_height = symbols[0].shape[0]"
   ]
  },
  {
   "cell_type": "markdown",
   "metadata": {},
   "source": [
    "Cut the image to make its height to be divisible by symbols height. (**Useless in current implementation**)"
   ]
  },
  {
   "cell_type": "code",
   "execution_count": 107,
   "metadata": {
    "collapsed": false
   },
   "outputs": [
    {
     "name": "stdout",
     "output_type": "stream",
     "text": [
      "(624, 480)\n",
      "(624, 480)\n"
     ]
    }
   ],
   "source": [
    "rows_number = image.shape[0] / symbol_height\n",
    "print image.shape\n",
    "image = image[:rows_number*symbol_height, :]\n",
    "print image.shape"
   ]
  },
  {
   "cell_type": "code",
   "execution_count": 137,
   "metadata": {
    "collapsed": false
   },
   "outputs": [
    {
     "name": "stdout",
     "output_type": "stream",
     "text": [
      "(78, 48)\n",
      "[[ 64   2 153 ..., 109  52 190]\n",
      " [100  15 191 ..., 191 193 126]\n",
      " [109  83  96 ...,  35 164  57]\n",
      " ..., \n",
      " [189  65 152 ..., 103  30  68]\n",
      " [  2 188  11 ..., 155 119  52]\n",
      " [116  37 138 ...,  25  96 191]]\n"
     ]
    }
   ],
   "source": [
    "cache = np.zeros((rows_number, image.shape[1]), int)\n",
    "cache.fill(-1)\n",
    "parent_symbol = np.zeros((rows_number, image.shape[1] + 1), int)\n",
    "inf = sys.maxint\n",
    "\n",
    "def loss(row, pos, symbol):\n",
    "    image_part = image[row * symbol_height : (row + 1) * symbol_height, pos : pos + symbol.shape[1]]\n",
    "    return np.linalg.norm(symbol - image_part)**2\n",
    "\n",
    "def dp(row, pos):\n",
    "    if pos == image.shape[1]:\n",
    "        return 0\n",
    "    \n",
    "    if pos > image.shape[1]:\n",
    "        return inf\n",
    "    \n",
    "    if cache[row, pos] != -1:\n",
    "        return cache[row, pos]\n",
    "    \n",
    "    res = inf\n",
    "    \n",
    "    for symbol_ind, symbol in enumerate(symbols):\n",
    "        next_pos = pos + symbol.shape[1]\n",
    "        cur_res = dp(row, next_pos) + loss(row, pos, symbol)\n",
    "        if cur_res < res:\n",
    "            res = cur_res\n",
    "            parent_symbol[row, next_pos] = symbol_ind\n",
    "    \n",
    "    cache[row, pos] = res\n",
    "    return res\n",
    "\n",
    "taken_symbols = []\n",
    "\n",
    "for row in xrange(rows_number):\n",
    "    parent_symbol.fill(-1)\n",
    "    dp(row, 0)\n",
    "    cur_symbols = []\n",
    "    pos = image.shape[1]\n",
    "    while parent_symbol[row, pos] != -1:\n",
    "        cur_symbols.append(parent_symbol[row, pos])\n",
    "        pos -= symbols[parent_symbol[row, pos]].shape[1]\n",
    "    taken_symbols.append(cur_symbols)"
   ]
  },
  {
   "cell_type": "code",
   "execution_count": 144,
   "metadata": {
    "collapsed": false
   },
   "outputs": [
    {
     "name": "stdout",
     "output_type": "stream",
     "text": [
      "len(taken_symbols) = 78\n",
      "[ 64   2 153 182  99 121 168 193 121 140 184  50 162  55 103 118 173 193\n",
      "  38   2 131 189  25  78 148 121 181  60  79   9  62 152  25  73 133  30\n",
      " 124  77   9  48 126  96 175  10  38 109  52 190]\n",
      "[100  15 191  30  57  30 199  95  30 137 115  38  69 126 100  98 199  96\n",
      "  30 138 160   4 119 115  96  75  59 163  68 190 197  38 191 175  38 192\n",
      " 175 138  89  47  30 151  88  86  36 191 193 126]\n"
     ]
    }
   ],
   "source": [
    "print \"len(taken_symbols) =\", len(taken_symbols)\n",
    "print taken_symbols[0]\n",
    "print taken_symbols[1]"
   ]
  },
  {
   "cell_type": "code",
   "execution_count": null,
   "metadata": {
    "collapsed": true
   },
   "outputs": [],
   "source": []
  }
 ],
 "metadata": {
  "kernelspec": {
   "display_name": "Python 2",
   "language": "python",
   "name": "python2"
  },
  "language_info": {
   "codemirror_mode": {
    "name": "ipython",
    "version": 2
   },
   "file_extension": ".py",
   "mimetype": "text/x-python",
   "name": "python",
   "nbconvert_exporter": "python",
   "pygments_lexer": "ipython2",
   "version": "2.7.10"
  }
 },
 "nbformat": 4,
 "nbformat_minor": 0
}
